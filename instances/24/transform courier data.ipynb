{
 "cells": [
  {
   "cell_type": "code",
   "execution_count": 1,
   "metadata": {},
   "outputs": [],
   "source": [
    "import pandas as pd\n",
    "\n",
    "c = pd.read_csv(\"couriers.csv\", index_col=0)"
   ]
  },
  {
   "cell_type": "code",
   "execution_count": 2,
   "metadata": {},
   "outputs": [
    {
     "name": "stdout",
     "output_type": "stream",
     "text": [
      "   instance_id  courier_id     vehicle     on_lat     on_lng   on_time  \\\n",
      "0           24           1  motorcycle  29.030200  41.068920  09:00:00   \n",
      "1           24           2  motorcycle  28.992764  41.050915  09:00:20   \n",
      "2           24           3  motorcycle  28.993030  41.062680  09:00:40   \n",
      "3           24           4  motorcycle  28.987820  41.035580  09:01:00   \n",
      "4           24           5  motorcycle  28.987017  41.033866  09:01:20   \n",
      "\n",
      "   off_time  \n",
      "0  17:00:00  \n",
      "1  17:00:20  \n",
      "2  17:00:40  \n",
      "3  17:01:00  \n",
      "4  17:01:20  \n"
     ]
    }
   ],
   "source": [
    "c.instance_id = 24\n",
    "print(c.head())\n"
   ]
  },
  {
   "cell_type": "code",
   "execution_count": 3,
   "metadata": {},
   "outputs": [],
   "source": [
    "c.to_csv(\"couriers_updated.csv\", index=False)"
   ]
  }
 ],
 "metadata": {
  "interpreter": {
   "hash": "e324d15b100f758ae4139e8375edc305a13e594fc643419c8ea7fecfba53218a"
  },
  "kernelspec": {
   "display_name": "Python 3.7.11 ('mdrp-sim')",
   "language": "python",
   "name": "python3"
  },
  "language_info": {
   "codemirror_mode": {
    "name": "ipython",
    "version": 3
   },
   "file_extension": ".py",
   "mimetype": "text/x-python",
   "name": "python",
   "nbconvert_exporter": "python",
   "pygments_lexer": "ipython3",
   "version": "3.7.11"
  },
  "orig_nbformat": 4
 },
 "nbformat": 4,
 "nbformat_minor": 2
}
