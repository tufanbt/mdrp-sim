{
 "cells": [
  {
   "cell_type": "code",
   "execution_count": 1,
   "metadata": {},
   "outputs": [
    {
     "name": "stdout",
     "output_type": "stream",
     "text": [
      "   instance_id  order_id  delivery_id  drop_off_lat  drop_off_lng  \\\n",
      "0            1         0     17738347     28.983177     41.053969   \n",
      "1            1         1     17820007     28.961694     41.048327   \n",
      "2            1         2     17741591     28.990869     41.055244   \n",
      "3            1         3     17813910     28.977640     41.031995   \n",
      "4            1         4     17772065     29.019955     41.050617   \n",
      "\n",
      "   pick_up_lat  pick_up_lng       placement_time     preparation_time  \\\n",
      "0    28.985963    41.051779  2021-08-25 13:05:55  2021-08-25 13:12:14   \n",
      "1    28.977328    41.034364  2021-08-25 21:46:17  2021-08-25 21:48:10   \n",
      "2    28.991675    41.052446  2021-08-25 13:27:18  2021-08-25 13:29:15   \n",
      "3    28.984626    41.035011  2021-08-25 20:57:54  2021-08-25 20:58:50   \n",
      "4    29.008113    41.042914  2021-08-25 16:49:42  2021-08-25 16:49:54   \n",
      "\n",
      "            ready_time expected_drop_off_time  \n",
      "0  2021-08-25 13:24:06    2021-08-25 13:35:55  \n",
      "1  2021-08-25 22:04:45    2021-08-25 22:16:17  \n",
      "2  2021-08-25 13:42:31    2021-08-25 13:57:18  \n",
      "3  2021-08-25 21:13:11    2021-08-25 21:27:54  \n",
      "4  2021-08-25 17:06:46    2021-08-25 17:19:42  \n"
     ]
    }
   ],
   "source": [
    "import pandas as pd\n",
    "data = pd.read_csv(\"orders.csv\")\n",
    "print(data.head())"
   ]
  },
  {
   "cell_type": "code",
   "execution_count": 2,
   "metadata": {},
   "outputs": [
    {
     "name": "stdout",
     "output_type": "stream",
     "text": [
      "   instance_id  order_id  delivery_id  drop_off_lat  drop_off_lng  \\\n",
      "0           24         0     17738347     28.983177     41.053969   \n",
      "1           24         1     17820007     28.961694     41.048327   \n",
      "2           24         2     17741591     28.990869     41.055244   \n",
      "3           24         3     17813910     28.977640     41.031995   \n",
      "4           24         4     17772065     29.019955     41.050617   \n",
      "\n",
      "   pick_up_lat  pick_up_lng       placement_time     preparation_time  \\\n",
      "0    28.985963    41.051779  2021-08-25 13:05:55  2021-08-25 13:12:14   \n",
      "1    28.977328    41.034364  2021-08-25 21:46:17  2021-08-25 21:48:10   \n",
      "2    28.991675    41.052446  2021-08-25 13:27:18  2021-08-25 13:29:15   \n",
      "3    28.984626    41.035011  2021-08-25 20:57:54  2021-08-25 20:58:50   \n",
      "4    29.008113    41.042914  2021-08-25 16:49:42  2021-08-25 16:49:54   \n",
      "\n",
      "            ready_time expected_drop_off_time  \n",
      "0  2021-08-25 13:24:06    2021-08-25 13:35:55  \n",
      "1  2021-08-25 22:04:45    2021-08-25 22:16:17  \n",
      "2  2021-08-25 13:42:31    2021-08-25 13:57:18  \n",
      "3  2021-08-25 21:13:11    2021-08-25 21:27:54  \n",
      "4  2021-08-25 17:06:46    2021-08-25 17:19:42  \n"
     ]
    }
   ],
   "source": [
    "data.instance_id = 24\n",
    "print(data.head())"
   ]
  },
  {
   "cell_type": "code",
   "execution_count": 3,
   "metadata": {},
   "outputs": [],
   "source": [
    "data.to_csv(\"orders_updated.csv\", index=False)"
   ]
  }
 ],
 "metadata": {
  "interpreter": {
   "hash": "e324d15b100f758ae4139e8375edc305a13e594fc643419c8ea7fecfba53218a"
  },
  "kernelspec": {
   "display_name": "Python 3.7.11 ('mdrp-sim')",
   "language": "python",
   "name": "python3"
  },
  "language_info": {
   "codemirror_mode": {
    "name": "ipython",
    "version": 3
   },
   "file_extension": ".py",
   "mimetype": "text/x-python",
   "name": "python",
   "nbconvert_exporter": "python",
   "pygments_lexer": "ipython3",
   "version": "3.7.11"
  },
  "orig_nbformat": 4
 },
 "nbformat": 4,
 "nbformat_minor": 2
}
